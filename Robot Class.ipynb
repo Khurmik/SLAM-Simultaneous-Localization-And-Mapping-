{
 "cells": [
  {
   "cell_type": "code",
   "execution_count": 1,
   "metadata": {},
   "outputs": [],
   "source": [
    "import numpy as np\n",
    "import matplotlib.pyplot as plt\n",
    "%matplotlib inline\n",
    "import random"
   ]
  },
  {
   "cell_type": "code",
   "execution_count": 2,
   "metadata": {},
   "outputs": [],
   "source": [
    "class robot:\n",
    "    def __init__(self, world_size=100.0, meadurement_range = 30.0, motion_noise = 1.0, measurement_noise = 1.0):\n",
    "        self.world_size = world_size\n",
    "        self.measurement_range = measurement_range\n",
    "        self.x                 = world_size / 2.0\n",
    "        self.y                 = world_size / 2.0\n",
    "        self.motion_noise      = motion_noise\n",
    "        self.measurement_noise = measurement_noise\n",
    "        self.landmarks         = []\n",
    "        self.num_landmarks     = 0\n",
    "        \n",
    "    def rand(self):\n",
    "        return random.random() * 2.0 - 1.0\n",
    "    \n",
    "    def move(self, dx, dy):\n",
    "        x = self.x + dx + self.rand() * motion_noise\n",
    "        y = self.y + dy + self.rand() * motion_noise\n",
    "        if x < 0.0 or x > world_size or y < 0.0 or y > world_size:\n",
    "            return False\n",
    "        else:\n",
    "            self.x = x\n",
    "            self.y = y\n",
    "            return True\n",
    "        \n",
    "        \n",
    "    def sense(self):\n",
    "        measurements = []\n",
    "        for i, landmark in enumerate(self.landmarks):\n",
    "            dx  = landmark[0] - self.x + self.rand() * self.measurement_noise\n",
    "            dy  = landmark[1] - self.y + self.rand() * self.measurement_noise\n",
    "            if abs(dx) <= self.measurement_range and abs(dy) <= self.measurement_range:\n",
    "                measurements.append([i,dx,dy])\n",
    "        return measurements\n",
    "    \n",
    "    def make_landmarks(self, num_landmarks):\n",
    "        self.landmarks = []\n",
    "        for i in range(num_landmarks):\n",
    "            self.landmarks.append([round(random.random() * self.world_size),\n",
    "                                  round(random.random() * self.world_size)])\n",
    "            self.num_landmarks = num_landmarks\n",
    "    def __repr__(self):\n",
    "        return 'Robot: [x=%.5f y=%.5f]'  % (self.x, self.y)"
   ]
  },
  {
   "cell_type": "code",
   "execution_count": 3,
   "metadata": {},
   "outputs": [
    {
     "name": "stdout",
     "output_type": "stream",
     "text": [
      "Robot: [x=5.00000 y=5.00000]\n"
     ]
    }
   ],
   "source": [
    "world_size        = 10.0\n",
    "measurement_range = 5.0\n",
    "measurement_noise = 0.2\n",
    "motion_noise     = 0.2\n",
    "\n",
    "r = robot(world_size,measurement_range,measurement_noise, motion_noise)\n",
    "print(r)"
   ]
  },
  {
   "cell_type": "code",
   "execution_count": null,
   "metadata": {},
   "outputs": [],
   "source": []
  },
  {
   "cell_type": "code",
   "execution_count": 4,
   "metadata": {},
   "outputs": [
    {
     "name": "stdout",
     "output_type": "stream",
     "text": [
      "Robot: [x=5.00000 y=5.00000]\n"
     ]
    },
    {
     "data": {
      "image/png": "[encoded data removed]",
      "text/plain": [
       "<Figure size 360x360 with 1 Axes>"
      ]
     },
     "metadata": {},
     "output_type": "display_data"
    }
   ],
   "source": [
    "from helpers import display_world\n",
    "\n",
    "plt.rcParams['figure.figsize'] = (5,5)\n",
    "print(r)\n",
    "display_world(int(world_size), [r.x,r.y])"
   ]
  },
  {
   "cell_type": "code",
   "execution_count": 5,
   "metadata": {},
   "outputs": [
    {
     "name": "stdout",
     "output_type": "stream",
     "text": [
      "Robot: [x=5.82661 y=6.82226]\n"
     ]
    },
    {
     "data": {
      "image/png": "[encoded data removed]",
      "text/plain": [
       "<Figure size 360x360 with 1 Axes>"
      ]
     },
     "metadata": {},
     "output_type": "display_data"
    }
   ],
   "source": [
    "dx = 1\n",
    "dy = 2\n",
    "r.move(dx,dy)\n",
    "print(r)\n",
    "display_world(int(world_size),[r.x,r.y])"
   ]
  },
  {
   "cell_type": "code",
   "execution_count": 6,
   "metadata": {},
   "outputs": [
    {
     "name": "stdout",
     "output_type": "stream",
     "text": [
      "Robot: [x=5.82661 y=6.82226]\n"
     ]
    },
    {
     "data": {
      "image/png": "[encoded data removed]",
      "text/plain": [
       "<Figure size 360x360 with 1 Axes>"
      ]
     },
     "metadata": {},
     "output_type": "display_data"
    },
    {
     "name": "stdout",
     "output_type": "stream",
     "text": [
      "Landmark locations [x,y]:  [[5, 2], [10, 1], [10, 2]]\n"
     ]
    }
   ],
   "source": [
    "num_landmarks = 3\n",
    "r.make_landmarks(num_landmarks)\n",
    "\n",
    "# print out our robot's exact location\n",
    "print(r)\n",
    "\n",
    "# display the world including these landmarks\n",
    "display_world(int(world_size), [r.x, r.y], r.landmarks)\n",
    "\n",
    "# print the locations of the landmarks\n",
    "print('Landmark locations [x,y]: ', r.landmarks)"
   ]
  },
  {
   "cell_type": "code",
   "execution_count": 7,
   "metadata": {},
   "outputs": [
    {
     "name": "stdout",
     "output_type": "stream",
     "text": [
      "[[0, -0.9622828598488274, -4.842698524768464], [2, 4.141411359133446, -4.842070696323587]]\n"
     ]
    }
   ],
   "source": [
    "measurements = r.sense()\n",
    "print(measurements)"
   ]
  },
  {
   "cell_type": "code",
   "execution_count": 8,
   "metadata": {},
   "outputs": [
    {
     "name": "stdout",
     "output_type": "stream",
     "text": [
      "[[[[0, -0.9622828598488274, -4.842698524768464], [2, 4.141411359133446, -4.842070696323587]], [1, 2]]]\n"
     ]
    }
   ],
   "source": [
    "data = []\n",
    "data.append([measurements, [dx, dy]])\n",
    "\n",
    "print(data)"
   ]
  },
  {
   "cell_type": "code",
   "execution_count": 9,
   "metadata": {},
   "outputs": [
    {
     "name": "stdout",
     "output_type": "stream",
     "text": [
      "Measurements:  [[0, -0.9622828598488274, -4.842698524768464], [2, 4.141411359133446, -4.842070696323587]]\n",
      "Motion:  [1, 2]\n"
     ]
    }
   ],
   "source": [
    "\n",
    "time_step = 0\n",
    "\n",
    "print('Measurements: ', data[time_step][0])\n",
    "\n",
    "print('Motion: ', data[time_step][1])"
   ]
  }
 ],
 "metadata": {
  "kernelspec": {
   "display_name": "Python 3",
   "language": "python",
   "name": "python3"
  },
  "language_info": {
   "codemirror_mode": {
    "name": "ipython",
    "version": 3
   },
   "file_extension": ".py",
   "mimetype": "text/x-python",
   "name": "python",
   "nbconvert_exporter": "python",
   "pygments_lexer": "ipython3",
   "version": "3.8.3"
  }
 },
 "nbformat": 4,
 "nbformat_minor": 4
}
